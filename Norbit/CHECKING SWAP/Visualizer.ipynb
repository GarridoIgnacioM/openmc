{
 "cells": [
  {
   "cell_type": "code",
   "execution_count": 1,
   "metadata": {},
   "outputs": [],
   "source": [
    "import numpy as np\n",
    "import matplotlib.pyplot as plt\n",
    "import pandas as pd\n"
   ]
  },
  {
   "cell_type": "code",
   "execution_count": 2,
   "metadata": {},
   "outputs": [
    {
     "data": {
      "text/html": [
       "<div>\n",
       "<style scoped>\n",
       "    .dataframe tbody tr th:only-of-type {\n",
       "        vertical-align: middle;\n",
       "    }\n",
       "\n",
       "    .dataframe tbody tr th {\n",
       "        vertical-align: top;\n",
       "    }\n",
       "\n",
       "    .dataframe thead th {\n",
       "        text-align: right;\n",
       "    }\n",
       "</style>\n",
       "<table border=\"1\" class=\"dataframe\">\n",
       "  <thead>\n",
       "    <tr style=\"text-align: right;\">\n",
       "      <th></th>\n",
       "      <th>0</th>\n",
       "      <th>1</th>\n",
       "      <th>2</th>\n",
       "    </tr>\n",
       "  </thead>\n",
       "  <tbody>\n",
       "    <tr>\n",
       "      <th>0</th>\n",
       "      <td>0.00015</td>\n",
       "      <td>-1.010790e-04</td>\n",
       "      <td>3.377207e-06</td>\n",
       "    </tr>\n",
       "    <tr>\n",
       "      <th>1</th>\n",
       "      <td>0.00045</td>\n",
       "      <td>-1.144831e-04</td>\n",
       "      <td>3.901794e-06</td>\n",
       "    </tr>\n",
       "    <tr>\n",
       "      <th>2</th>\n",
       "      <td>0.00075</td>\n",
       "      <td>-1.233848e-04</td>\n",
       "      <td>2.472900e-06</td>\n",
       "    </tr>\n",
       "    <tr>\n",
       "      <th>3</th>\n",
       "      <td>0.00105</td>\n",
       "      <td>-1.236858e-04</td>\n",
       "      <td>3.421965e-06</td>\n",
       "    </tr>\n",
       "    <tr>\n",
       "      <th>4</th>\n",
       "      <td>0.00135</td>\n",
       "      <td>-1.203880e-04</td>\n",
       "      <td>3.878780e-06</td>\n",
       "    </tr>\n",
       "    <tr>\n",
       "      <th>...</th>\n",
       "      <td>...</td>\n",
       "      <td>...</td>\n",
       "      <td>...</td>\n",
       "    </tr>\n",
       "    <tr>\n",
       "      <th>995</th>\n",
       "      <td>0.29865</td>\n",
       "      <td>-1.599863e-06</td>\n",
       "      <td>3.711468e-07</td>\n",
       "    </tr>\n",
       "    <tr>\n",
       "      <th>996</th>\n",
       "      <td>0.29895</td>\n",
       "      <td>-6.998987e-07</td>\n",
       "      <td>2.603162e-07</td>\n",
       "    </tr>\n",
       "    <tr>\n",
       "      <th>997</th>\n",
       "      <td>0.29925</td>\n",
       "      <td>-1.399854e-06</td>\n",
       "      <td>3.399025e-07</td>\n",
       "    </tr>\n",
       "    <tr>\n",
       "      <th>998</th>\n",
       "      <td>0.29955</td>\n",
       "      <td>-1.299872e-06</td>\n",
       "      <td>2.999763e-07</td>\n",
       "    </tr>\n",
       "    <tr>\n",
       "      <th>999</th>\n",
       "      <td>0.29985</td>\n",
       "      <td>-1.099915e-06</td>\n",
       "      <td>2.768773e-07</td>\n",
       "    </tr>\n",
       "  </tbody>\n",
       "</table>\n",
       "<p>1000 rows × 3 columns</p>\n",
       "</div>"
      ],
      "text/plain": [
       "           0             1             2\n",
       "0    0.00015 -1.010790e-04  3.377207e-06\n",
       "1    0.00045 -1.144831e-04  3.901794e-06\n",
       "2    0.00075 -1.233848e-04  2.472900e-06\n",
       "3    0.00105 -1.236858e-04  3.421965e-06\n",
       "4    0.00135 -1.203880e-04  3.878780e-06\n",
       "..       ...           ...           ...\n",
       "995  0.29865 -1.599863e-06  3.711468e-07\n",
       "996  0.29895 -6.998987e-07  2.603162e-07\n",
       "997  0.29925 -1.399854e-06  3.399025e-07\n",
       "998  0.29955 -1.299872e-06  2.999763e-07\n",
       "999  0.29985 -1.099915e-06  2.768773e-07\n",
       "\n",
       "[1000 rows x 3 columns]"
      ]
     },
     "execution_count": 2,
     "metadata": {},
     "output_type": "execute_result"
    }
   ],
   "source": [
    "char = pd.read_csv('char_data.txt', sep=\" \", header=None)\n",
    "swap = pd.read_csv('swap_data.txt', sep=\" \", header=None)\n",
    "\n",
    "char"
   ]
  },
  {
   "cell_type": "code",
   "execution_count": 3,
   "metadata": {},
   "outputs": [
    {
     "name": "stdout",
     "output_type": "stream",
     "text": [
      "412876.5625\n"
     ]
    }
   ],
   "source": [
    "L = 20 #Longitud total del cubo\n",
    "beta = 0.264241  #integral de maxwell entre 0 y kT\n",
    "divs = 500\n",
    "cte = divs*divs*divs*beta/(4*L)\n",
    "print(cte)\n"
   ]
  },
  {
   "cell_type": "code",
   "execution_count": 6,
   "metadata": {},
   "outputs": [
    {
     "data": {
      "text/plain": [
       "<matplotlib.legend.Legend at 0x7f457a74e3e0>"
      ]
     },
     "execution_count": 6,
     "metadata": {},
     "output_type": "execute_result"
    },
    {
     "data": {
      "image/png": "[encoded data removed]",
      "text/plain": [
       "<Figure size 640x480 with 1 Axes>"
      ]
     },
     "metadata": {},
     "output_type": "display_data"
    }
   ],
   "source": [
    "def maxwell_boltzmann(energy, kt):\n",
    "    return energy/(kt*kt) * np.exp(-energy/kt)\n",
    "\n",
    "charplot = char[1]*1000\n",
    "swapplot = swap[1]/maxwell_boltzmann(swap[0], 8.617333e-5*294.0)*cte*100/0.03\n",
    "charerr = char[2]*1000\n",
    "swaperr = swap[2]/maxwell_boltzmann(swap[0], 8.617333e-5*294.0)*cte*1000/0.03\n",
    "\n",
    "charx = char[0]\n",
    "swapx = swap[0]\n",
    "\n",
    "# for charplot and swapplot, reduce the amount of bines 5 times by getting the averages of 5 bins\n",
    "charplot = np.mean(charplot.values.reshape(-1, 5), axis=1)\n",
    "swapplot = np.mean(swapplot.values.reshape(-1, 5), axis=1)\n",
    "charerr = np.mean(charerr.values.reshape(-1, 5), axis=1)\n",
    "swaperr = np.mean(swaperr.values.reshape(-1, 5), axis=1)\n",
    "\n",
    "charx = np.mean(charx.values.reshape(-1, 5), axis=1)\n",
    "swapx = np.mean(swapx.values.reshape(-1, 5), axis=1)\n",
    "\n",
    "\n",
    "\n",
    "plt.errorbar(charx, -charplot, yerr=charerr, linewidth = 0.5, elinewidth = 0, label='CHAR-0')\n",
    "plt.errorbar(swapx, swapplot, yerr=swaperr, linewidth = 0.5, elinewidth = 0, label='SWAP-0')\n",
    "plt.ylim(0,0.16)\n",
    "plt.legend()\n",
    "\n"
   ]
  },
  {
   "cell_type": "code",
   "execution_count": 7,
   "metadata": {},
   "outputs": [
    {
     "data": {
      "text/plain": [
       "-0.00015000000000000001"
      ]
     },
     "execution_count": 7,
     "metadata": {},
     "output_type": "execute_result"
    }
   ],
   "source": [
    "(char[0][1]-char[0][2])/2\n"
   ]
  },
  {
   "cell_type": "code",
   "execution_count": null,
   "metadata": {},
   "outputs": [],
   "source": []
  }
 ],
 "metadata": {
  "kernelspec": {
   "display_name": "carlitos",
   "language": "python",
   "name": "python3"
  },
  "language_info": {
   "codemirror_mode": {
    "name": "ipython",
    "version": 3
   },
   "file_extension": ".py",
   "mimetype": "text/x-python",
   "name": "python",
   "nbconvert_exporter": "python",
   "pygments_lexer": "ipython3",
   "version": "3.10.8"
  },
  "orig_nbformat": 4
 },
 "nbformat": 4,
 "nbformat_minor": 2
}
